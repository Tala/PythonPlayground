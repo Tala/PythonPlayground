{
 "cells": [
  {
   "cell_type": "code",
   "execution_count": 32,
   "metadata": {
    "collapsed": false
   },
   "outputs": [],
   "source": [
    "from bs4 import BeautifulSoup\n",
    "from ebooklib import epub\n",
    "import re\n",
    "import datetime\n",
    "\n",
    "import urllib.request\n",
    "with urllib.request.urlopen('http://magic.wizards.com/en/articles/columns/magic-story') as response:\n",
    "   html_doc = response.read()\n",
    "\n",
    "soup = BeautifulSoup(html_doc, 'html.parser')"
   ]
  },
  {
   "cell_type": "code",
   "execution_count": 41,
   "metadata": {
    "collapsed": false
   },
   "outputs": [],
   "source": [
    "def getDate(string):\n",
    "    match = re.search(r'\\d{4}-\\d{2}-\\d{2}', string)\n",
    "    date = datetime.datetime.strptime(match.group(), '%Y-%m-%d').date()\n",
    "    return date"
   ]
  },
  {
   "cell_type": "code",
   "execution_count": 50,
   "metadata": {
    "collapsed": false
   },
   "outputs": [],
   "source": [
    "links = list()\n",
    "\n",
    "for link in soup.find_all('a'):\n",
    "    links.append(str(link.get('href')))\n",
    "    \n",
    "links_filtered = [x for x in links if 'story' in x]\n",
    "links_filtered = [x for x in links if 'en/articles/archive/' in x]\n",
    "links_filtered = list(set(links_filtered))\n",
    "links_sorted = sorted(links_filtered, key=getDate)\n",
    "#links_filtered"
   ]
  },
  {
   "cell_type": "code",
   "execution_count": 3,
   "metadata": {
    "collapsed": true
   },
   "outputs": [],
   "source": [
    "def makeTitlePretty(soupTitle):\n",
    "    stringTitle = str(soupTitle)\n",
    "    stringTitle = stringTitle.split('>')[1].split('|')[0]\n",
    "    return stringTitle"
   ]
  },
  {
   "cell_type": "code",
   "execution_count": 66,
   "metadata": {
    "collapsed": true
   },
   "outputs": [],
   "source": [
    "def createChapter(url):\n",
    "    response = urllib.request.urlopen(url)\n",
    "    temp_doc = response.read()\n",
    "    sub_soup = BeautifulSoup(temp_doc, 'html.parser')\n",
    "    c1_title = str(makeTitlePretty(sub_soup.title))\n",
    "\n",
    "    content = sub_soup.find_all(\"div\", id=\"content-detail-page-of-an-article\")\n",
    "    c1_content = str(content[0].find_all('body')).replace('[','').replace(']','')\n",
    "    return c1_title, c1_content"
   ]
  },
  {
   "cell_type": "markdown",
   "metadata": {},
   "source": [
    "# Gesamtcrawler"
   ]
  },
  {
   "cell_type": "code",
   "execution_count": null,
   "metadata": {
    "collapsed": true
   },
   "outputs": [],
   "source": [
    "chapters = dict()   \n",
    "for link in links_sorted:\n",
    "    c_title, c_content = createChapter('http://magic.wizards.com' + link)\n",
    "    print(c_title + ' done.')\n",
    "    chapters[c_title] = c_content\n",
    "    \n"
   ]
  },
  {
   "cell_type": "markdown",
   "metadata": {},
   "source": [
    "# Create Epub"
   ]
  },
  {
   "cell_type": "code",
   "execution_count": 81,
   "metadata": {
    "collapsed": false
   },
   "outputs": [
    {
     "data": {
      "text/plain": [
       "dict_keys(['Krenko, Mob Boss ', 'A Blessed Life ', 'Our Cookie Policy ', 'Cowardice of the Hero ', 'Emonberry Red ', \"Kiora's Followers \", 'Dance of the Flitterstep ', 'The Walls of Akros ', 'The Hero of Iroas ', 'The Gorgon and the Guildpact ', 'The Oracle of Ephara ', 'Seasons in Setessa ', 'Ajani, Mentor of Heroes ', 'Desperate Stand ', 'Dreams of the City ', 'Thank the Gods ', 'The Path or the Horizon ', 'Betrayal ', 'The Black Rose ', 'Like Cogwork ', 'Blood Will Have Blood ', \"Kruphix's Insight \", 'Nissa, Worldwaker ', 'Veil of Deceit ', 'The Bard and the Biologist ', \"Ajani's Vengeance \", \"Comin' Through! \", 'Dreams of the Damned ', 'Monster ', 'The Madness of Sarkhan ', \"Planeswalker's Guide to Khans of Tarkir, Part 1 \", \"Planeswalker's Guide to Khans of Tarkir, Part 2 \", \"Taigam's Scheming \", 'The Chensal Twins ', 'A New Tarkir of Old ', 'The Doom of the Golden Fang ', 'No End and No Beginning ', 'Khanfall ', 'A Tarkir of Dragons ', \"The Great Teacher's Student \", \"Planeswalker's Guide to Dragons of Tarkir, Part 1 \", \"Planeswalker's Guide to Dragons of Tarkir, Part 2 \", \"Sorin's Restoration \", 'The Guardian ', 'The Poisoned Heart ', 'The Call ', 'Unbroken and Unbowed ', 'The Story of Tarkir Block ', 'Stirring from Slumber ', 'Drop for Drop ', 'Chandra’s Origin: Fire Logic ', \"Liliana's Origin: The Fourth Pact \", 'Jace’s Origin: Absent Minds ', 'Gideon’s Origin: Kytheon Iora of Akros ', 'Nissa’s Origin: Home ', 'For Zendikar ', 'The Magic Fiction eBook Collection ', 'Judgment ', 'Pride of the Kraul ', 'The Hour of Revelation ', 'Feast ', 'Hour of Glory ', 'The Hour of Promise '])"
      ]
     },
     "execution_count": 81,
     "metadata": {},
     "output_type": "execute_result"
    }
   ],
   "source": [
    "def create_and_add_chapter(c_title, c_content, book):\n",
    "    \n",
    "    c_xhtml = c_title+'.xhtml'\n",
    "\n",
    "    chapter = epub.EpubHtml(title=c_title, file_name=c_xhtml, lang='hr')\n",
    "    chapter.content=u'<h1>'+ c_title + '</h1>' + str(c_content)\n",
    "\n",
    "    ### add chapter\n",
    "    magic_stories_epub.add_item(chapter)\n",
    "    return chapter, book"
   ]
  },
  {
   "cell_type": "code",
   "execution_count": 86,
   "metadata": {
    "collapsed": true
   },
   "outputs": [],
   "source": [
    "magic_stories_epub = epub.EpubBook()\n",
    "magic_stories_epub.set_title('Magic the Gathering Stories') \n",
    "magic_stories_epub.set_language('en')"
   ]
  },
  {
   "cell_type": "code",
   "execution_count": 87,
   "metadata": {
    "collapsed": true
   },
   "outputs": [],
   "source": [
    "ebook_chapters = list()\n",
    "\n",
    "for c_title in chapters:\n",
    "    chap, magic_stories_epub = create_and_add_chapter(c_title, chapters[c_title], magic_stories_epub)\n",
    "    ebook_chapters.append(chap)\n"
   ]
  },
  {
   "cell_type": "code",
   "execution_count": 106,
   "metadata": {
    "collapsed": false
   },
   "outputs": [
    {
     "name": "stderr",
     "output_type": "stream",
     "text": [
      "C:\\ProgramData\\Anaconda3\\lib\\zipfile.py:1348: UserWarning: Duplicate name: 'EPUB/toc.ncx'\n",
      "  return self._open_to_write(zinfo, force_zip64=force_zip64)\n",
      "C:\\ProgramData\\Anaconda3\\lib\\zipfile.py:1348: UserWarning: Duplicate name: 'EPUB/nav.xhtml'\n",
      "  return self._open_to_write(zinfo, force_zip64=force_zip64)\n",
      "C:\\ProgramData\\Anaconda3\\lib\\zipfile.py:1348: UserWarning: Duplicate name: 'EPUB/style/nav.css'\n",
      "  return self._open_to_write(zinfo, force_zip64=force_zip64)\n"
     ]
    }
   ],
   "source": [
    "### define Table Of Contents\n",
    "magic_stories_epub.toc = (epub.Link('Test1', 'Test2', 'Test3'),(epub.Section('Stories'),ebook_chapters))\n",
    "\n",
    "### add default NCX and Nav file\n",
    "magic_stories_epub.add_item(epub.EpubNcx())\n",
    "magic_stories_epub.add_item(epub.EpubNav())\n",
    "\n",
    "### define CSS style\n",
    "style = 'BODY {color: white;}'\n",
    "nav_css = epub.EpubItem(uid=\"style_nav\", file_name=\"style/nav.css\", media_type=\"text/css\", content=style)\n",
    "\n",
    "### add CSS file\n",
    "magic_stories_epub.add_item(nav_css)\n",
    "\n",
    "### basic spine\n",
    "spine = ['nav']\n",
    "spine.extend(ebook_chapters)\n",
    "magic_stories_epub.spine = spine\n",
    "\n",
    "### write to the file\n",
    "epub.write_epub('test.epub', magic_stories_epub, {})"
   ]
  },
  {
   "cell_type": "code",
   "execution_count": null,
   "metadata": {
    "collapsed": true
   },
   "outputs": [],
   "source": []
  },
  {
   "cell_type": "code",
   "execution_count": null,
   "metadata": {
    "collapsed": true
   },
   "outputs": [],
   "source": []
  },
  {
   "cell_type": "code",
   "execution_count": null,
   "metadata": {
    "collapsed": true
   },
   "outputs": [],
   "source": []
  },
  {
   "cell_type": "code",
   "execution_count": null,
   "metadata": {
    "collapsed": true
   },
   "outputs": [],
   "source": []
  },
  {
   "cell_type": "markdown",
   "metadata": {},
   "source": [
    "## Notes\n",
    "\n",
    "http://magic.wizards.com/en/articles/archive -  Alle Artikel\n",
    "\n",
    "http://magic.wizards.com/en/articles/columns/magic-story - Story Auflistungsseite\n",
    "\n",
    "\n",
    "from ebooklib import epub\n",
    "\n",
    "magic_stories_epub = epub.EpubBook()\n",
    "\n",
    "### set metadata\n",
    "book.set_identifier('id123456')\n",
    "book.set_title('Sample book')\n",
    "book.set_language('en')\n",
    "\n",
    "book.add_author('Author Authorowski')\n",
    "book.add_author('Danko Bananko', file_as='Gospodin Danko Bananko', role='ill', uid='coauthor')\n",
    "\n",
    "### create chapter\n",
    "c1 = epub.EpubHtml(title='Intro', file_name='chap_01.xhtml', lang='hr')\n",
    "c1.content=u'<h1>Intro heading</h1><p>Žaba je skočila u baru.</p>'\n",
    "\n",
    "### add chapter\n",
    "book.add_item(c1)\n",
    "\n",
    "### define Table Of Contents\n",
    "book.toc = (epub.Link('chap_01.xhtml', 'Introduction', 'intro'),\n",
    "(epub.Section('Simple book'),\n",
    "(c1, ))\n",
    ")\n",
    "\n",
    "### add default NCX and Nav file\n",
    "book.add_item(epub.EpubNcx())\n",
    "book.add_item(epub.EpubNav())\n",
    "\n",
    "### define CSS style\n",
    "style = 'BODY {color: white;}'\n",
    "nav_css = epub.EpubItem(uid=\"style_nav\", file_name=\"style/nav.css\", media_type=\"text/css\", content=style)\n",
    "\n",
    "### add CSS file\n",
    "book.add_item(nav_css)\n",
    "\n",
    "### basic spine\n",
    "book.spine = ['nav', c1]\n",
    "\n",
    "### write to the file\n",
    "epub.write_epub('test.epub', book, {})"
   ]
  },
  {
   "cell_type": "code",
   "execution_count": null,
   "metadata": {
    "collapsed": true
   },
   "outputs": [],
   "source": []
  }
 ],
 "metadata": {
  "kernelspec": {
   "display_name": "Python 3",
   "language": "python",
   "name": "python3"
  },
  "language_info": {
   "codemirror_mode": {
    "name": "ipython",
    "version": 3
   },
   "file_extension": ".py",
   "mimetype": "text/x-python",
   "name": "python",
   "nbconvert_exporter": "python",
   "pygments_lexer": "ipython3",
   "version": "3.6.0"
  }
 },
 "nbformat": 4,
 "nbformat_minor": 2
}
