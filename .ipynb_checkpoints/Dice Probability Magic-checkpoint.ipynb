{
 "cells": [
  {
   "cell_type": "markdown",
   "metadata": {},
   "source": [
    "## Würfeldesaster \n",
    "\n",
    "Spielregel: N Würfel werden gewürfelt mit gleichen under Unterschiedlichen würfelseiten. Es gibt ein Goldstück für jedes Würfelergebnis, wo für den würfel der TopScore erreicht wird. Alternativ: jeweils bei einer 1.   \n",
    "\n",
    "Problem: Aufaddierung von einzelprobabilities vs. Einzelberechnungen  \n",
    "Aussage: man kann die einzelwahrscheinlichkeiten pro würfel Aufaddieren um eine Gesamtwahrscheinlichkeit zu bekommen. Wo funktioniert das? wo funktioniert das nicht."
   ]
  },
  {
   "cell_type": "markdown",
   "metadata": {},
   "source": [
    "## Same value dices"
   ]
  },
  {
   "cell_type": "code",
   "execution_count": 23,
   "metadata": {},
   "outputs": [],
   "source": [
    "import pandas as pd\n",
    "import numpy as np\n",
    "import itertools\n"
   ]
  },
  {
   "cell_type": "code",
   "execution_count": 56,
   "metadata": {},
   "outputs": [
    {
     "name": "stdout",
     "output_type": "stream",
     "text": [
      "[[1 1]\n",
      " [1 2]\n",
      " [1 3]\n",
      " [2 1]\n",
      " [2 2]\n",
      " [2 3]\n",
      " [3 1]\n",
      " [3 2]\n",
      " [3 3]]\n",
      "Actual ratio: 0.6666666666666666\n",
      "Estimated ratio: 0.6666666666666666\n"
     ]
    }
   ],
   "source": [
    "\n",
    "n_dices = 2\n",
    "n_sides = 3\n",
    "\n",
    "# create matrix with possibilities of outcome\n",
    "dice_results =  np.array(list(itertools.product(range(1,n_sides+1), repeat=n_dices)))\n",
    "print(dice_results)\n",
    "\n",
    "# count number of ones\n",
    "n_ones = sum(dice_results.flatten() == 1)\n",
    "\n",
    "# calculate actual ratio\n",
    "actual_ratio = n_ones / (dice_results.size / n_dices)\n",
    "print(f'Actual ratio: {actual_ratio}')\n",
    "\n",
    "# calculate estimated probabilities of \n",
    "estimated_ratio = 1/n_sides * n_dices\n",
    "print(f\"Estimated ratio: {estimated_ratio}\")"
   ]
  },
  {
   "cell_type": "markdown",
   "metadata": {},
   "source": [
    "## Different value dices"
   ]
  },
  {
   "cell_type": "code",
   "execution_count": 66,
   "metadata": {},
   "outputs": [
    {
     "ename": "SyntaxError",
     "evalue": "invalid syntax (<ipython-input-66-b28893d8fd31>, line 1)",
     "output_type": "error",
     "traceback": [
      "\u001b[1;36m  File \u001b[1;32m\"<ipython-input-66-b28893d8fd31>\"\u001b[1;36m, line \u001b[1;32m1\u001b[0m\n\u001b[1;33m    dice_list = for range(1,2) lambda x: range(1,x+1)\u001b[0m\n\u001b[1;37m                  ^\u001b[0m\n\u001b[1;31mSyntaxError\u001b[0m\u001b[1;31m:\u001b[0m invalid syntax\n"
     ]
    }
   ],
   "source": [
    "dice_list = lambda x: range(1,x+1)"
   ]
  },
  {
   "cell_type": "code",
   "execution_count": 62,
   "metadata": {},
   "outputs": [
    {
     "ename": "TypeError",
     "evalue": "'range' object cannot be interpreted as an integer",
     "output_type": "error",
     "traceback": [
      "\u001b[1;31m---------------------------------------------------------------------------\u001b[0m",
      "\u001b[1;31mTypeError\u001b[0m                                 Traceback (most recent call last)",
      "\u001b[1;32m<ipython-input-62-39e0d5eacc0b>\u001b[0m in \u001b[0;36m<module>\u001b[1;34m()\u001b[0m\n\u001b[0;32m      1\u001b[0m \u001b[1;33m\u001b[0m\u001b[0m\n\u001b[1;32m----> 2\u001b[1;33m \u001b[0mdices\u001b[0m \u001b[1;33m=\u001b[0m \u001b[0mrange\u001b[0m\u001b[1;33m(\u001b[0m\u001b[1;36m1\u001b[0m\u001b[1;33m,\u001b[0m\u001b[0mrange\u001b[0m\u001b[1;33m(\u001b[0m\u001b[1;36m4\u001b[0m\u001b[1;33m,\u001b[0m\u001b[1;36m6\u001b[0m\u001b[1;33m)\u001b[0m\u001b[1;33m)\u001b[0m\u001b[1;33m\u001b[0m\u001b[0m\n\u001b[0m\u001b[0;32m      3\u001b[0m \u001b[1;33m\u001b[0m\u001b[0m\n\u001b[0;32m      4\u001b[0m \u001b[1;31m# create matrix with possibilities of outcome\u001b[0m\u001b[1;33m\u001b[0m\u001b[1;33m\u001b[0m\u001b[0m\n\u001b[0;32m      5\u001b[0m \u001b[0mdice_results\u001b[0m \u001b[1;33m=\u001b[0m  \u001b[0mnp\u001b[0m\u001b[1;33m.\u001b[0m\u001b[0marray\u001b[0m\u001b[1;33m(\u001b[0m\u001b[0mlist\u001b[0m\u001b[1;33m(\u001b[0m\u001b[0mitertools\u001b[0m\u001b[1;33m.\u001b[0m\u001b[0mproduct\u001b[0m\u001b[1;33m(\u001b[0m\u001b[0mdices\u001b[0m\u001b[1;33m,\u001b[0m \u001b[0mrepeat\u001b[0m\u001b[1;33m=\u001b[0m\u001b[0mlen\u001b[0m\u001b[1;33m(\u001b[0m\u001b[0mdices\u001b[0m\u001b[1;33m)\u001b[0m\u001b[1;33m)\u001b[0m\u001b[1;33m)\u001b[0m\u001b[1;33m)\u001b[0m\u001b[1;33m\u001b[0m\u001b[0m\n",
      "\u001b[1;31mTypeError\u001b[0m: 'range' object cannot be interpreted as an integer"
     ]
    }
   ],
   "source": [
    "\n",
    "dices = [4,5]\n",
    "dice_list = lambda x: range(1,x+1)\n",
    "\n",
    "# create matrix with possibilities of outcome\n",
    "dice_results = np.array()\n",
    "dice_results.append(np.array(list(itertools.product(range(1,dice), repeat=len(dices))))\n",
    "print(dice_results)\n",
    "\n",
    "# count number of ones\n",
    "n_ones = sum(dice_results.flatten() == 1)\n",
    "\n",
    "# calculate actual ratio\n",
    "actual_ratio = n_ones / (dice_results.size / n_dices)\n",
    "print(f'Actual ratio: {actual_ratio}')\n",
    "\n",
    "# calculate estimated probabilities of \n",
    "estimated_ratio = 1/n_sides * n_dices\n",
    "print(f\"Estimated ratio: {estimated_ratio}\")"
   ]
  }
 ],
 "metadata": {
  "kernelspec": {
   "display_name": "Python 3",
   "language": "python",
   "name": "python3"
  },
  "language_info": {
   "codemirror_mode": {
    "name": "ipython",
    "version": 3
   },
   "file_extension": ".py",
   "mimetype": "text/x-python",
   "name": "python",
   "nbconvert_exporter": "python",
   "pygments_lexer": "ipython3",
   "version": "3.6.5"
  }
 },
 "nbformat": 4,
 "nbformat_minor": 2
}
