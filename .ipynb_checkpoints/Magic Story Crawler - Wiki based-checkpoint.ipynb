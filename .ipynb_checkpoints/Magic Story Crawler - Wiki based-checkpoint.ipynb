{
 "cells": [
  {
   "cell_type": "code",
   "execution_count": 3,
   "metadata": {
    "collapsed": false
   },
   "outputs": [],
   "source": [
    "from bs4 import BeautifulSoup\n",
    "from ebooklib import epub\n",
    "import re\n",
    "import datetime\n",
    "\n",
    "import requests\n",
    "response = requests.get('http://mtg.gamepedia.com/Magic_Story')\n",
    "html_doc = response.text\n",
    "\n",
    "soup = BeautifulSoup(html_doc, 'html.parser')"
   ]
  },
  {
   "cell_type": "code",
   "execution_count": 4,
   "metadata": {
    "collapsed": false
   },
   "outputs": [],
   "source": [
    "def getDate(string):\n",
    "    match = re.search(r'\\d{4}-\\d{2}-\\d{2}', string)\n",
    "    date = datetime.datetime.strptime(match.group(), '%Y-%m-%d').date()\n",
    "    return date"
   ]
  },
  {
   "cell_type": "code",
   "execution_count": 21,
   "metadata": {
    "collapsed": false
   },
   "outputs": [],
   "source": [
    "links = list()\n",
    "\n",
    "for link in soup.find_all('a'):\n",
    "    links.append(str(link.get('href')))\n",
    "    \n",
    "links_filtered = [x for x in links if 'http://magic.wizards.com/' in x]\n",
    "links_sorted = links_filtered\n",
    "#links_filtered\n",
    "\n"
   ]
  },
  {
   "cell_type": "code",
   "execution_count": 22,
   "metadata": {
    "collapsed": false
   },
   "outputs": [],
   "source": [
    "links_sorted[links_sorted.index('http://magic.wizards.com/en/articles/archive/magic-story/sbreaking-points-2017-01-18')] = 'http://magic.wizards.com/en/articles/archive/magic-story/breaking-points-2017-01-18'\n"
   ]
  },
  {
   "cell_type": "code",
   "execution_count": 8,
   "metadata": {
    "collapsed": true
   },
   "outputs": [],
   "source": [
    "def makeTitlePretty(soupTitle):\n",
    "    stringTitle = str(soupTitle)\n",
    "    stringTitle = stringTitle.split('>')[1].split('|')[0]\n",
    "    return stringTitle"
   ]
  },
  {
   "cell_type": "code",
   "execution_count": 9,
   "metadata": {
    "collapsed": true
   },
   "outputs": [],
   "source": [
    "def createChapter(url):\n",
    "    response = urllib.request.urlopen(url)\n",
    "    temp_doc = response.read()\n",
    "    sub_soup = BeautifulSoup(temp_doc, 'html.parser')\n",
    "    c1_title = str(makeTitlePretty(sub_soup.title))\n",
    "\n",
    "    content = sub_soup.find_all(\"div\", id=\"content-detail-page-of-an-article\")\n",
    "    c1_content = str(content[0].find_all('body')).replace('[','').replace(']','')\n",
    "    return c1_title, c1_content"
   ]
  },
  {
   "cell_type": "markdown",
   "metadata": {},
   "source": [
    "# Gesamtcrawler"
   ]
  },
  {
   "cell_type": "code",
   "execution_count": 23,
   "metadata": {
    "collapsed": false,
    "scrolled": false
   },
   "outputs": [
    {
     "name": "stdout",
     "output_type": "stream",
     "text": [
      "Odric, Master Tactician  done.\n",
      "Xathrid Gorgon  done.\n",
      "Chronomaton  done.\n",
      "Krenko, Mob Boss  done.\n",
      "Threadbare  done.\n",
      "Talrand, Sky Summoner  done.\n",
      "The Stonekiller  done.\n",
      "The Stonekiller, Part 2  done.\n",
      "The Shadows of Prahv, Part 1  done.\n",
      "The Shadows of Prahv, Part 2  done.\n",
      "Epic Experiment  done.\n",
      "In Praise of the Worldsoul, Part 1  done.\n",
      "In Praise of the Worldsoul, Part 2  done.\n",
      "In Praise of the Worldsoul, Part 3  done.\n",
      "Slaughter Games  done.\n",
      "The Great Concourse  done.\n",
      "The Azorius Ten Most Wanted  done.\n",
      "The Seven Bells, Part 1  done.\n",
      "The Seven Bells, Part 2  done.\n",
      "Rogue's Passage  done.\n",
      "Gruul Ingenuity  done.\n",
      "The Fathom Edict  done.\n",
      "The Absolution of the Guildpact  done.\n",
      "Persistence of Memory  done.\n",
      "The Burying, Part 1  done.\n",
      "The Greater Good  done.\n",
      "The Guild of Deals  done.\n",
      "Experiment One  done.\n",
      "Fblthp  done.\n",
      "The Burying, Part 2  done.\n",
      "Bilagru Will Come for You  done.\n",
      "The Hard Sell  done.\n",
      "Behind the Black Sun  done.\n",
      "Ruric Thar  done.\n",
      "Teysa Karlov  done.\n",
      "Barrin's Tall Tale  done.\n",
      "Expectations  done.\n",
      "The Pursuit, Part 1  done.\n",
      "Life in the Ring  done.\n",
      "The Pursuit, Part 2  done.\n",
      "The One Hundred Steps  done.\n",
      "Preparation  done.\n",
      "Last Day  done.\n",
      "Paper Trail  done.\n",
      "Battle for the Ninth  done.\n",
      "Prisoner of the Skep; or, How I Encountered the Slivers—and Lived to Tell the Tale!  done.\n",
      "The Armor in the Crypt  done.\n",
      "The Path of Bravery  done.\n",
      "Pride Cometh  done.\n",
      "A Blessed Life  done.\n",
      "Zurbit's Day  done.\n",
      "Ravnica High  done.\n",
      "The Lost Confession  done.\n",
      "Prince Anax, Part 1  done.\n",
      "Prince Anax, Part 2  done.\n",
      "Nymphs of Theros  done.\n",
      "The Consequences of Attraction  done.\n",
      "The Perfect Gift  done.\n",
      "Tragedy  done.\n",
      "I Iroan  done.\n",
      "The Sea God's Labyrinth, Part 1  done.\n",
      "The Sea God's Labyrinth, Part 2  done.\n",
      "Building Toward a Dream, Part 1  done.\n",
      "Building Toward a Dream, Part 2  done.\n",
      "Asphodel  done.\n",
      "The Nature of Identity  done.\n",
      "Cowardice of the Hero  done.\n",
      "Emonberry Red  done.\n",
      "Kiora's Followers  done.\n",
      "Dance of the Flitterstep  done.\n",
      "The Walls of Akros  done.\n",
      "The Hero of Iroas  done.\n",
      "The Gorgon and the Guildpact  done.\n",
      "The Oracle of Ephara  done.\n",
      "Seasons in Setessa  done.\n",
      "Ajani, Mentor of Heroes  done.\n",
      "Desperate Stand  done.\n",
      "Dreams of the City  done.\n",
      "Thank the Gods  done.\n",
      "The Path or the Horizon  done.\n",
      "Betrayal  done.\n",
      "The Black Rose  done.\n",
      "Like Cogwork  done.\n",
      "Blood Will Have Blood  done.\n",
      "Kruphix's Insight  done.\n",
      "Beast  done.\n",
      "Nissa, Worldwaker  done.\n",
      "Veil of Deceit  done.\n",
      "The Bard and the Biologist  done.\n",
      "The Hunter Cannot Pity  done.\n",
      "Ajani's Vengeance  done.\n",
      "Comin' Through!  done.\n",
      "Dreams of the Damned  done.\n",
      "The Lunarch's Journal  done.\n",
      "Monster  done.\n",
      "The Madness of Sarkhan  done.\n",
      "Awakening the Bear  done.\n",
      "Sorin's Revelation  done.\n",
      "Taigam's Scheming  done.\n",
      "Way of the Mantis  done.\n",
      "The Chensal Twins  done.\n",
      "Enlightened  done.\n",
      "The Lithomancer  done.\n",
      "The First World Is the Hardest  done.\n",
      "The Salt Road  done.\n",
      "Mercy  done.\n",
      "Victory  done.\n",
      "Bond and Blood  done.\n",
      "Journey to the Nexus  done.\n",
      "A New Tarkir of Old  done.\n",
      "Unwritten  done.\n",
      "The Reforged Chain  done.\n",
      "The Truth of Names  done.\n",
      "The Doom of the Golden Fang  done.\n",
      "No End and No Beginning  done.\n",
      "Khanfall  done.\n",
      "A Tarkir of Dragons  done.\n",
      "The Great Teacher's Student  done.\n",
      "Sorin's Restoration  done.\n",
      "The Guardian  done.\n",
      "The Poisoned Heart  done.\n",
      "The Call  done.\n",
      "Unbroken and Unbowed  done.\n",
      "The Dragon's Errand  done.\n",
      "Stirring from Slumber  done.\n",
      "Drop for Drop  done.\n",
      "Project Lightning Bug  done.\n",
      "Chandra’s Origin: Fire Logic  done.\n",
      "Liliana's Origin: The Fourth Pact  done.\n",
      "Jace’s Origin: Absent Minds  done.\n",
      "Gideon’s Origin: Kytheon Iora of Akros  done.\n",
      "Nissa’s Origin: Home  done.\n",
      "Limits  done.\n",
      "Catching Up  done.\n",
      "Unkindness of Ravens  done.\n",
      "Offers to the Fire  done.\n",
      "For Zendikar  done.\n",
      "Slaughter at the Refuge  done.\n",
      "The Silent Cry  done.\n",
      "The Believers' Pilgrimage  done.\n",
      "The Survivors of Sky Rock  done.\n",
      "Memories of Blood  done.\n",
      "Nissa's Quest  done.\n",
      "Home Waters  done.\n",
      "Nissa's Resolve  done.\n",
      "Revelation at the Eye  done.\n",
      "Shaping an Army  done.\n",
      "The Liberation of Sea Gate  done.\n",
      "All the Cairns of Jund  done.\n",
      "Family Values  done.\n",
      "Hedron Alignment  done.\n",
      "At Any Cost  done.\n",
      "Promises to Keep  done.\n",
      "The Rise of Kozilek  done.\n",
      "Retaliation of Ob Nixilis  done.\n",
      "Reclamation  done.\n",
      "The Blight We Were Born For  done.\n",
      "Up in Flames  done.\n",
      "Beneath the Surface  done.\n",
      "Oath of the Gatewatch  done.\n",
      "Brink of Extinction  done.\n",
      "Zendikar's Last Stand  done.\n",
      "Zendikar Resurgent  done.\n",
      "Under the Silver Moon  done.\n",
      "A Gaze Blank and Pitiless  done.\n",
      "Unwelcome  done.\n",
      "Sacrifice  done.\n",
      "The Mystery of Markov Manor  done.\n",
      "The Drownyard Temple  done.\n",
      "Promises Old and New  done.\n",
      "Liliana's Indignation  done.\n",
      "Games  done.\n",
      "The Lunarch Inquisition  done.\n",
      "Stories and Endings  done.\n",
      "I Am Avacyn  done.\n",
      "The Prodigal Sorcerers  done.\n",
      "All That Came Before  done.\n",
      "The Archmage of Goldnight  done.\n",
      "Stone and Blood  done.\n",
      "Emrakul Rises  done.\n",
      "Innistrad's Last Hope  done.\n",
      "Campaign of Vengeance  done.\n",
      "Saint Traft and the Flight of Nightmares  done.\n",
      "Battle of Thraben  done.\n",
      "The Promised End  done.\n",
      "Laid to Rest  done.\n",
      "Tyrants  done.\n",
      "Proclamation by Queen Marchesa  done.\n",
      "Proclamation by Adriana, Captain of the Guard  done.\n",
      "Bloody Instructions  done.\n",
      "Leovold's Dossiers  done.\n",
      "Homesick  done.\n",
      "A Time for Innovation  done.\n",
      "Torch of Defiance  done.\n",
      "Renegade Prime  done.\n",
      "Born of Aether  done.\n",
      "Bottled Up  done.\n",
      "Release  done.\n",
      "In This Very Arena  done.\n",
      "A Grateful Consulate  done.\n",
      "In the Dead of Night  done.\n",
      "Quiet Moments  done.\n",
      "Breakthrough  done.\n",
      "Revolution Begins  done.\n",
      "Burn  done.\n",
      "The Skies over Ghirapur  done.\n",
      "Breaking Points  done.\n",
      "Puppets  done.\n",
      "Renewal  done.\n",
      "Impact  done.\n",
      "Trust  done.\n",
      "The Writing on the Wall  done.\n",
      "Servants  done.\n",
      "The Hand That Moves  done.\n",
      "Brazen  done.\n",
      "Trespass  done.\n",
      "Judgment  done.\n",
      "Pride of the Kraul  done.\n",
      "The Hour of Revelation  done.\n",
      "Feast  done.\n",
      "Hour of Glory  done.\n",
      "The Hour of Promise  done.\n",
      "The Ten Commanders  done.\n",
      "Top 20 Flavor Text  done.\n",
      "The Gods of Born of the Gods  done.\n",
      "Planeswalker's Guide to Khans of Tarkir, Part 1  done.\n",
      "Planeswalker's Guide to Khans of Tarkir, Part 2  done.\n",
      "Planeswalker's Guide to Fate Reforged  done.\n",
      "Planeswalker's Guide to Dragons of Tarkir, Part 1  done.\n",
      "Planeswalker's Guide to Dragons of Tarkir, Part 2  done.\n",
      "The Story of Tarkir Block  done.\n",
      "Magic Origins: A New Era  done.\n",
      "Battle for Zendikar Story Events  done.\n",
      "Oath of the Gatewatch Story Events  done.\n",
      "Hanweir Chronicle Recap  done.\n",
      "It's Time to Talk Commander (2016 Edition)!  done.\n",
      "Planeswalker's Guide to Kaladesh  done.\n",
      "The Making of Kaladesh  done.\n",
      "Recapping the Kaladesh Story  done.\n",
      "Messages from the Consulate  done.\n",
      "A New Year, a New DailyMTG  done.\n",
      "The January 28, 2016 Update  done.\n"
     ]
    }
   ],
   "source": [
    "chapters = dict()   \n",
    "for link in links_sorted:\n",
    "    c_title, c_content = createChapter(link)\n",
    "    print(c_title + ' done.')\n",
    "    chapters[c_title] = c_content\n",
    "    \n"
   ]
  },
  {
   "cell_type": "markdown",
   "metadata": {},
   "source": [
    "# Create Epub"
   ]
  },
  {
   "cell_type": "code",
   "execution_count": 24,
   "metadata": {
    "collapsed": false
   },
   "outputs": [],
   "source": [
    "def create_and_add_chapter(c_title, c_content, book):\n",
    "    \n",
    "    c_xhtml = c_title+'.xhtml'\n",
    "\n",
    "    chapter = epub.EpubHtml(title=c_title, file_name=c_xhtml, lang='hr')\n",
    "    chapter.content=u'<h1>'+ c_title + '</h1>' + str(c_content)\n",
    "\n",
    "    ### add chapter\n",
    "    magic_stories_epub.add_item(chapter)\n",
    "    return chapter, book"
   ]
  },
  {
   "cell_type": "code",
   "execution_count": 25,
   "metadata": {
    "collapsed": true
   },
   "outputs": [],
   "source": [
    "magic_stories_epub = epub.EpubBook()\n",
    "magic_stories_epub.set_title('Magic the Gathering Stories') \n",
    "magic_stories_epub.set_language('en')"
   ]
  },
  {
   "cell_type": "code",
   "execution_count": 26,
   "metadata": {
    "collapsed": true
   },
   "outputs": [],
   "source": [
    "ebook_chapters = list()\n",
    "\n",
    "for c_title in chapters:\n",
    "    chap, magic_stories_epub = create_and_add_chapter(c_title, chapters[c_title], magic_stories_epub)\n",
    "    ebook_chapters.append(chap)\n"
   ]
  },
  {
   "cell_type": "code",
   "execution_count": 27,
   "metadata": {
    "collapsed": false
   },
   "outputs": [],
   "source": [
    "### define Table Of Contents\n",
    "magic_stories_epub.toc = (epub.Link('Test1', 'Test2', 'Test3'),(epub.Section('Stories'),ebook_chapters))\n",
    "\n",
    "### add default NCX and Nav file\n",
    "magic_stories_epub.add_item(epub.EpubNcx())\n",
    "magic_stories_epub.add_item(epub.EpubNav())\n",
    "\n",
    "### define CSS style\n",
    "style = 'BODY {color: white;}'\n",
    "nav_css = epub.EpubItem(uid=\"style_nav\", file_name=\"style/nav.css\", media_type=\"text/css\", content=style)\n",
    "\n",
    "### add CSS file\n",
    "magic_stories_epub.add_item(nav_css)\n",
    "\n",
    "### basic spine\n",
    "spine = ['nav']\n",
    "spine.extend(ebook_chapters)\n",
    "magic_stories_epub.spine = spine\n",
    "\n",
    "### write to the file\n",
    "epub.write_epub('test.epub', magic_stories_epub, {})"
   ]
  },
  {
   "cell_type": "code",
   "execution_count": 28,
   "metadata": {
    "collapsed": false
   },
   "outputs": [
    {
     "data": {
      "text/plain": [
       "242"
      ]
     },
     "execution_count": 28,
     "metadata": {},
     "output_type": "execute_result"
    }
   ],
   "source": [
    "len(links_sorted)"
   ]
  },
  {
   "cell_type": "code",
   "execution_count": null,
   "metadata": {
    "collapsed": true
   },
   "outputs": [],
   "source": []
  },
  {
   "cell_type": "code",
   "execution_count": null,
   "metadata": {
    "collapsed": true
   },
   "outputs": [],
   "source": []
  },
  {
   "cell_type": "code",
   "execution_count": null,
   "metadata": {
    "collapsed": true
   },
   "outputs": [],
   "source": []
  },
  {
   "cell_type": "markdown",
   "metadata": {},
   "source": [
    "## Notes\n",
    "\n",
    "http://magic.wizards.com/en/articles/archive -  Alle Artikel\n",
    "\n",
    "http://magic.wizards.com/en/articles/columns/magic-story - Story Auflistungsseite\n",
    "\n",
    "\n",
    "from ebooklib import epub\n",
    "\n",
    "magic_stories_epub = epub.EpubBook()\n",
    "\n",
    "### set metadata\n",
    "book.set_identifier('id123456')\n",
    "book.set_title('Sample book')\n",
    "book.set_language('en')\n",
    "\n",
    "book.add_author('Author Authorowski')\n",
    "book.add_author('Danko Bananko', file_as='Gospodin Danko Bananko', role='ill', uid='coauthor')\n",
    "\n",
    "### create chapter\n",
    "c1 = epub.EpubHtml(title='Intro', file_name='chap_01.xhtml', lang='hr')\n",
    "c1.content=u'<h1>Intro heading</h1><p>Žaba je skočila u baru.</p>'\n",
    "\n",
    "### add chapter\n",
    "book.add_item(c1)\n",
    "\n",
    "### define Table Of Contents\n",
    "book.toc = (epub.Link('chap_01.xhtml', 'Introduction', 'intro'),\n",
    "(epub.Section('Simple book'),\n",
    "(c1, ))\n",
    ")\n",
    "\n",
    "### add default NCX and Nav file\n",
    "book.add_item(epub.EpubNcx())\n",
    "book.add_item(epub.EpubNav())\n",
    "\n",
    "### define CSS style\n",
    "style = 'BODY {color: white;}'\n",
    "nav_css = epub.EpubItem(uid=\"style_nav\", file_name=\"style/nav.css\", media_type=\"text/css\", content=style)\n",
    "\n",
    "### add CSS file\n",
    "book.add_item(nav_css)\n",
    "\n",
    "### basic spine\n",
    "book.spine = ['nav', c1]\n",
    "\n",
    "### write to the file\n",
    "epub.write_epub('test.epub', book, {})"
   ]
  },
  {
   "cell_type": "code",
   "execution_count": null,
   "metadata": {
    "collapsed": true
   },
   "outputs": [],
   "source": []
  }
 ],
 "metadata": {
  "kernelspec": {
   "display_name": "Python 3",
   "language": "python",
   "name": "python3"
  },
  "language_info": {
   "codemirror_mode": {
    "name": "ipython",
    "version": 3
   },
   "file_extension": ".py",
   "mimetype": "text/x-python",
   "name": "python",
   "nbconvert_exporter": "python",
   "pygments_lexer": "ipython3",
   "version": "3.6.0"
  }
 },
 "nbformat": 4,
 "nbformat_minor": 2
}
