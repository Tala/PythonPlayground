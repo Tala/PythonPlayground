{
 "cells": [
  {
   "cell_type": "code",
   "execution_count": 1,
   "metadata": {
    "collapsed": false
   },
   "outputs": [],
   "source": [
    "from bs4 import BeautifulSoup\n",
    "from ebooklib import epub\n",
    "import re\n",
    "import datetime\n",
    "\n",
    "import requests\n",
    "response = requests.get('http://mtg.gamepedia.com/Magic_Story')\n",
    "html_doc = response.text\n",
    "\n",
    "soup = BeautifulSoup(html_doc, 'html.parser')"
   ]
  },
  {
   "cell_type": "code",
   "execution_count": 2,
   "metadata": {
    "collapsed": false
   },
   "outputs": [],
   "source": [
    "def getDate(string):\n",
    "    match = re.search(r'\\d{4}-\\d{2}-\\d{2}', string)\n",
    "    date = datetime.datetime.strptime(match.group(), '%Y-%m-%d').date()\n",
    "    return date"
   ]
  },
  {
   "cell_type": "code",
   "execution_count": 3,
   "metadata": {
    "collapsed": false
   },
   "outputs": [],
   "source": [
    "links = list()\n",
    "\n",
    "for link in soup.find_all('a'):\n",
    "    links.append(str(link.get('href')))\n",
    "    \n",
    "links_filtered = [x for x in links if 'http://magic.wizards.com/' in x]\n",
    "links_sorted = links_filtered\n",
    "#links_filtered\n",
    "\n"
   ]
  },
  {
   "cell_type": "code",
   "execution_count": 8,
   "metadata": {
    "collapsed": false
   },
   "outputs": [],
   "source": [
    "links_sorted.append(['http://magic.wizards.com/en/articles/archive/magic-story/favor-2017-07-05', 'http://magic.wizards.com/en/articles/archive/magic-story/hour-eternity-2017-07-12',\n",
    "                      'http://magic.wizards.com/en/articles/archive/magic-story/endure-2017-07-19', 'http://magic.wizards.com/en/articles/archive/magic-story/hour-devastation-2017-07-26'])"
   ]
  },
  {
   "cell_type": "code",
   "execution_count": 4,
   "metadata": {
    "collapsed": false
   },
   "outputs": [],
   "source": [
    "links_sorted[links_sorted.index('http://magic.wizards.com/en/articles/archive/magic-story/sbreaking-points-2017-01-18')] = 'http://magic.wizards.com/en/articles/archive/magic-story/breaking-points-2017-01-18'\n"
   ]
  },
  {
   "cell_type": "code",
   "execution_count": 5,
   "metadata": {
    "collapsed": true
   },
   "outputs": [],
   "source": [
    "def makeTitlePretty(soupTitle):\n",
    "    stringTitle = str(soupTitle)\n",
    "    stringTitle = stringTitle.split('>')[1].split('|')[0]\n",
    "    return stringTitle"
   ]
  },
  {
   "cell_type": "code",
   "execution_count": 6,
   "metadata": {
    "collapsed": true
   },
   "outputs": [],
   "source": [
    "def createChapter(url):\n",
    "    response = requests.get(url)\n",
    "    temp_doc = response.text\n",
    "    sub_soup = BeautifulSoup(temp_doc, 'html.parser')\n",
    "    c1_title = str(makeTitlePretty(sub_soup.title))\n",
    "\n",
    "    content = sub_soup.find_all(\"div\", id=\"content-detail-page-of-an-article\")\n",
    "    c1_content = str(content[0].find_all('body')).replace('[','').replace(']','')\n",
    "    return c1_title, c1_content"
   ]
  },
  {
   "cell_type": "markdown",
   "metadata": {},
   "source": [
    "# Gesamtcrawler"
   ]
  },
  {
   "cell_type": "code",
   "execution_count": 9,
   "metadata": {
    "collapsed": false,
    "scrolled": false
   },
   "outputs": [
    {
     "ename": "NameError",
     "evalue": "name 'urllib' is not defined",
     "output_type": "error",
     "traceback": [
      "\u001b[0;31m---------------------------------------------------------------------------\u001b[0m",
      "\u001b[0;31mNameError\u001b[0m                                 Traceback (most recent call last)",
      "\u001b[0;32m<ipython-input-9-2393a92ec946>\u001b[0m in \u001b[0;36m<module>\u001b[0;34m()\u001b[0m\n\u001b[1;32m      1\u001b[0m \u001b[0mchapters\u001b[0m \u001b[1;33m=\u001b[0m \u001b[0mdict\u001b[0m\u001b[1;33m(\u001b[0m\u001b[1;33m)\u001b[0m\u001b[1;33m\u001b[0m\u001b[0m\n\u001b[1;32m      2\u001b[0m \u001b[1;32mfor\u001b[0m \u001b[0mlink\u001b[0m \u001b[1;32min\u001b[0m \u001b[0mlinks_sorted\u001b[0m\u001b[1;33m:\u001b[0m\u001b[1;33m\u001b[0m\u001b[0m\n\u001b[0;32m----> 3\u001b[0;31m     \u001b[0mc_title\u001b[0m\u001b[1;33m,\u001b[0m \u001b[0mc_content\u001b[0m \u001b[1;33m=\u001b[0m \u001b[0mcreateChapter\u001b[0m\u001b[1;33m(\u001b[0m\u001b[0mlink\u001b[0m\u001b[1;33m)\u001b[0m\u001b[1;33m\u001b[0m\u001b[0m\n\u001b[0m\u001b[1;32m      4\u001b[0m     \u001b[0mprint\u001b[0m\u001b[1;33m(\u001b[0m\u001b[0mc_title\u001b[0m \u001b[1;33m+\u001b[0m \u001b[1;34m' done.'\u001b[0m\u001b[1;33m)\u001b[0m\u001b[1;33m\u001b[0m\u001b[0m\n\u001b[1;32m      5\u001b[0m     \u001b[0mchapters\u001b[0m\u001b[1;33m[\u001b[0m\u001b[0mc_title\u001b[0m\u001b[1;33m]\u001b[0m \u001b[1;33m=\u001b[0m \u001b[0mc_content\u001b[0m\u001b[1;33m\u001b[0m\u001b[0m\n",
      "\u001b[0;32m<ipython-input-6-4adc13613552>\u001b[0m in \u001b[0;36mcreateChapter\u001b[0;34m(url)\u001b[0m\n\u001b[1;32m      1\u001b[0m \u001b[1;32mdef\u001b[0m \u001b[0mcreateChapter\u001b[0m\u001b[1;33m(\u001b[0m\u001b[0murl\u001b[0m\u001b[1;33m)\u001b[0m\u001b[1;33m:\u001b[0m\u001b[1;33m\u001b[0m\u001b[0m\n\u001b[0;32m----> 2\u001b[0;31m     \u001b[0mresponse\u001b[0m \u001b[1;33m=\u001b[0m \u001b[0murllib\u001b[0m\u001b[1;33m.\u001b[0m\u001b[0mrequest\u001b[0m\u001b[1;33m.\u001b[0m\u001b[0murlopen\u001b[0m\u001b[1;33m(\u001b[0m\u001b[0murl\u001b[0m\u001b[1;33m)\u001b[0m\u001b[1;33m\u001b[0m\u001b[0m\n\u001b[0m\u001b[1;32m      3\u001b[0m     \u001b[0mtemp_doc\u001b[0m \u001b[1;33m=\u001b[0m \u001b[0mresponse\u001b[0m\u001b[1;33m.\u001b[0m\u001b[0mread\u001b[0m\u001b[1;33m(\u001b[0m\u001b[1;33m)\u001b[0m\u001b[1;33m\u001b[0m\u001b[0m\n\u001b[1;32m      4\u001b[0m     \u001b[0msub_soup\u001b[0m \u001b[1;33m=\u001b[0m \u001b[0mBeautifulSoup\u001b[0m\u001b[1;33m(\u001b[0m\u001b[0mtemp_doc\u001b[0m\u001b[1;33m,\u001b[0m \u001b[1;34m'html.parser'\u001b[0m\u001b[1;33m)\u001b[0m\u001b[1;33m\u001b[0m\u001b[0m\n\u001b[1;32m      5\u001b[0m     \u001b[0mc1_title\u001b[0m \u001b[1;33m=\u001b[0m \u001b[0mstr\u001b[0m\u001b[1;33m(\u001b[0m\u001b[0mmakeTitlePretty\u001b[0m\u001b[1;33m(\u001b[0m\u001b[0msub_soup\u001b[0m\u001b[1;33m.\u001b[0m\u001b[0mtitle\u001b[0m\u001b[1;33m)\u001b[0m\u001b[1;33m)\u001b[0m\u001b[1;33m\u001b[0m\u001b[0m\n",
      "\u001b[0;31mNameError\u001b[0m: name 'urllib' is not defined"
     ]
    }
   ],
   "source": [
    "chapters = dict()   \n",
    "for link in links_sorted:\n",
    "    c_title, c_content = createChapter(link)\n",
    "    print(c_title + ' done.')\n",
    "    chapters[c_title] = c_content\n",
    "    \n"
   ]
  },
  {
   "cell_type": "markdown",
   "metadata": {},
   "source": [
    "# Create Epub"
   ]
  },
  {
   "cell_type": "code",
   "execution_count": 24,
   "metadata": {
    "collapsed": false
   },
   "outputs": [],
   "source": [
    "def create_and_add_chapter(c_title, c_content, book):\n",
    "    \n",
    "    c_xhtml = c_title+'.xhtml'\n",
    "\n",
    "    chapter = epub.EpubHtml(title=c_title, file_name=c_xhtml, lang='hr')\n",
    "    chapter.content=u'<h1>'+ c_title + '</h1>' + str(c_content)\n",
    "\n",
    "    ### add chapter\n",
    "    magic_stories_epub.add_item(chapter)\n",
    "    return chapter, book"
   ]
  },
  {
   "cell_type": "code",
   "execution_count": 25,
   "metadata": {
    "collapsed": true
   },
   "outputs": [],
   "source": [
    "magic_stories_epub = epub.EpubBook()\n",
    "magic_stories_epub.set_title('Magic the Gathering Stories') \n",
    "magic_stories_epub.set_language('en')"
   ]
  },
  {
   "cell_type": "code",
   "execution_count": 26,
   "metadata": {
    "collapsed": true
   },
   "outputs": [],
   "source": [
    "ebook_chapters = list()\n",
    "\n",
    "for c_title in chapters:\n",
    "    chap, magic_stories_epub = create_and_add_chapter(c_title, chapters[c_title], magic_stories_epub)\n",
    "    ebook_chapters.append(chap)\n"
   ]
  },
  {
   "cell_type": "code",
   "execution_count": 27,
   "metadata": {
    "collapsed": false
   },
   "outputs": [],
   "source": [
    "### define Table Of Contents\n",
    "magic_stories_epub.toc = (epub.Link('Test1', 'Test2', 'Test3'),(epub.Section('Stories'),ebook_chapters))\n",
    "\n",
    "### add default NCX and Nav file\n",
    "magic_stories_epub.add_item(epub.EpubNcx())\n",
    "magic_stories_epub.add_item(epub.EpubNav())\n",
    "\n",
    "### define CSS style\n",
    "style = 'BODY {color: white;}'\n",
    "nav_css = epub.EpubItem(uid=\"style_nav\", file_name=\"style/nav.css\", media_type=\"text/css\", content=style)\n",
    "\n",
    "### add CSS file\n",
    "magic_stories_epub.add_item(nav_css)\n",
    "\n",
    "### basic spine\n",
    "spine = ['nav']\n",
    "spine.extend(ebook_chapters)\n",
    "magic_stories_epub.spine = spine\n",
    "\n",
    "### write to the file\n",
    "epub.write_epub('test.epub', magic_stories_epub, {})"
   ]
  },
  {
   "cell_type": "code",
   "execution_count": 28,
   "metadata": {
    "collapsed": false
   },
   "outputs": [
    {
     "data": {
      "text/plain": [
       "242"
      ]
     },
     "execution_count": 28,
     "metadata": {},
     "output_type": "execute_result"
    }
   ],
   "source": [
    "len(links_sorted)"
   ]
  },
  {
   "cell_type": "code",
   "execution_count": null,
   "metadata": {
    "collapsed": true
   },
   "outputs": [],
   "source": []
  },
  {
   "cell_type": "code",
   "execution_count": null,
   "metadata": {
    "collapsed": true
   },
   "outputs": [],
   "source": []
  },
  {
   "cell_type": "code",
   "execution_count": null,
   "metadata": {
    "collapsed": true
   },
   "outputs": [],
   "source": []
  },
  {
   "cell_type": "markdown",
   "metadata": {},
   "source": [
    "## Notes\n",
    "\n",
    "http://magic.wizards.com/en/articles/archive -  Alle Artikel\n",
    "\n",
    "http://magic.wizards.com/en/articles/columns/magic-story - Story Auflistungsseite\n",
    "\n",
    "\n",
    "from ebooklib import epub\n",
    "\n",
    "magic_stories_epub = epub.EpubBook()\n",
    "\n",
    "### set metadata\n",
    "book.set_identifier('id123456')\n",
    "book.set_title('Sample book')\n",
    "book.set_language('en')\n",
    "\n",
    "book.add_author('Author Authorowski')\n",
    "book.add_author('Danko Bananko', file_as='Gospodin Danko Bananko', role='ill', uid='coauthor')\n",
    "\n",
    "### create chapter\n",
    "c1 = epub.EpubHtml(title='Intro', file_name='chap_01.xhtml', lang='hr')\n",
    "c1.content=u'<h1>Intro heading</h1><p>Žaba je skočila u baru.</p>'\n",
    "\n",
    "### add chapter\n",
    "book.add_item(c1)\n",
    "\n",
    "### define Table Of Contents\n",
    "book.toc = (epub.Link('chap_01.xhtml', 'Introduction', 'intro'),\n",
    "(epub.Section('Simple book'),\n",
    "(c1, ))\n",
    ")\n",
    "\n",
    "### add default NCX and Nav file\n",
    "book.add_item(epub.EpubNcx())\n",
    "book.add_item(epub.EpubNav())\n",
    "\n",
    "### define CSS style\n",
    "style = 'BODY {color: white;}'\n",
    "nav_css = epub.EpubItem(uid=\"style_nav\", file_name=\"style/nav.css\", media_type=\"text/css\", content=style)\n",
    "\n",
    "### add CSS file\n",
    "book.add_item(nav_css)\n",
    "\n",
    "### basic spine\n",
    "book.spine = ['nav', c1]\n",
    "\n",
    "### write to the file\n",
    "epub.write_epub('test.epub', book, {})"
   ]
  },
  {
   "cell_type": "code",
   "execution_count": null,
   "metadata": {
    "collapsed": true
   },
   "outputs": [],
   "source": []
  }
 ],
 "metadata": {
  "kernelspec": {
   "display_name": "Python 3",
   "language": "python",
   "name": "python3"
  },
  "language_info": {
   "codemirror_mode": {
    "name": "ipython",
    "version": 3
   },
   "file_extension": ".py",
   "mimetype": "text/x-python",
   "name": "python",
   "nbconvert_exporter": "python",
   "pygments_lexer": "ipython3",
   "version": "3.6.0"
  }
 },
 "nbformat": 4,
 "nbformat_minor": 2
}
